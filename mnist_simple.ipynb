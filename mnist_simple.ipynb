{
 "cells": [
  {
   "cell_type": "markdown",
   "metadata": {},
   "source": [
    "It is a Jupyter Notebook showing (not explaining!) basics of neural networks with Keras, using [MNIST dataset](http://yann.lecun.com/exdb/mnist/).\n",
    "\n",
    "It assumes:\n",
    "\n",
    "* Python 3.5+ with Jupyter Notebook (e.g. [Anaconda distribution](https://www.continuum.io/downloads))\n",
    "* [Keras](https://keras.io/) 2.x with [TensorFlow](https://www.tensorflow.org/) 1.x backend\n",
    "\n",
    "Optionally, install [stared/keras-sequential-ascii](https://github.com/stared/keras-sequential-ascii) to see architecture visualizaitons:\n",
    "\n",
    "* `pip install git+git://github.com/stared/keras-sequential-ascii.git`"
   ]
  },
  {
   "cell_type": "code",
   "execution_count": 1,
   "metadata": {
    "collapsed": false
   },
   "outputs": [
    {
     "name": "stderr",
     "output_type": "stream",
     "text": [
      "Using TensorFlow backend.\n"
     ]
    }
   ],
   "source": [
    "%matplotlib inline\n",
    "# import seaborn as sns\n",
    "\n",
    "from keras.datasets import mnist\n",
    "from keras import utils\n",
    "import numpy as np\n",
    "\n",
    "from keras.models import Sequential\n",
    "from keras.layers import Flatten, Dense, Activation\n",
    "from keras.layers import Conv2D, MaxPool2D"
   ]
  },
  {
   "cell_type": "code",
   "execution_count": 2,
   "metadata": {
    "collapsed": true
   },
   "outputs": [],
   "source": [
    "from keras_sequential_ascii import sequential_model_to_ascii_printout"
   ]
  },
  {
   "cell_type": "code",
   "execution_count": 3,
   "metadata": {
    "collapsed": false
   },
   "outputs": [
    {
     "name": "stdout",
     "output_type": "stream",
     "text": [
      "Downloading data from https://s3.amazonaws.com/img-datasets/mnist.npz\n"
     ]
    }
   ],
   "source": [
    "(X_train, y_train), (X_test, y_test) = mnist.load_data()"
   ]
  },
  {
   "cell_type": "code",
   "execution_count": 4,
   "metadata": {
    "collapsed": false
   },
   "outputs": [
    {
     "data": {
      "text/plain": [
       "(60000, 28, 28)"
      ]
     },
     "execution_count": 4,
     "metadata": {},
     "output_type": "execute_result"
    }
   ],
   "source": [
    "# (number of examples, x, y)\n",
    "X_train.shape"
   ]
  },
  {
   "cell_type": "code",
   "execution_count": 5,
   "metadata": {
    "collapsed": false
   },
   "outputs": [
    {
     "data": {
      "text/plain": [
       "(10000, 28, 28)"
      ]
     },
     "execution_count": 5,
     "metadata": {},
     "output_type": "execute_result"
    }
   ],
   "source": [
    "X_test.shape"
   ]
  },
  {
   "cell_type": "code",
   "execution_count": 6,
   "metadata": {
    "collapsed": false
   },
   "outputs": [],
   "source": [
    "# 3 -> [0., 0., 0., 1., 0., 0., 0., 0., 0., 0.]\n",
    "Y_train = utils.to_categorical(y_train)\n",
    "Y_test = utils.to_categorical(y_test)"
   ]
  },
  {
   "cell_type": "code",
   "execution_count": 7,
   "metadata": {
    "collapsed": true
   },
   "outputs": [],
   "source": [
    "# we need to add channel dimension (for convolutions)\n",
    "\n",
    "# TensorFlow backend\n",
    "X_train = X_train.reshape(-1, 28, 28, 1).astype('float32') / 255.\n",
    "X_test = X_test.reshape(-1, 28, 28, 1).astype('float32') / 255.\n",
    "\n",
    "# for Theano backend, it would be:\n",
    "# X_train = X_train.reshape(-1, 1, 28, 28).astype('float32') / 255.\n",
    "# X_test = X_test.reshape(-1, 1, 28, 28).astype('float32') / 255."
   ]
  },
  {
   "cell_type": "markdown",
   "metadata": {},
   "source": [
    "## Logistic Regression\n",
    "\n",
    "Multi-class [logistic regression](https://en.wikipedia.org/wiki/Logistic_regression), expressed in Keras."
   ]
  },
  {
   "cell_type": "code",
   "execution_count": 8,
   "metadata": {
    "collapsed": false
   },
   "outputs": [],
   "source": [
    "model = Sequential()\n",
    "\n",
    "model.add(Flatten(input_shape=(28, 28, 1)))  # for Theano: (1, 28, 28)\n",
    "model.add(Dense(10))\n",
    "model.add(Activation('softmax'))\n",
    "\n",
    "model.compile(optimizer='rmsprop',\n",
    "              loss='categorical_crossentropy',\n",
    "              metrics=['accuracy'])"
   ]
  },
  {
   "cell_type": "code",
   "execution_count": 9,
   "metadata": {
    "collapsed": false
   },
   "outputs": [
    {
     "name": "stdout",
     "output_type": "stream",
     "text": [
      "           OPERATION           DATA DIMENSIONS   WEIGHTS(N)   WEIGHTS(%)\n",
      "\n",
      "               Input   #####     28   28    1\n",
      "             Flatten   ||||| -------------------         0     0.0%\n",
      "                       #####         784\n",
      "               Dense   XXXXX -------------------      7850   100.0%\n",
      "             softmax   #####          10\n"
     ]
    }
   ],
   "source": [
    "sequential_model_to_ascii_printout(model)"
   ]
  },
  {
   "cell_type": "code",
   "execution_count": 10,
   "metadata": {
    "collapsed": false
   },
   "outputs": [
    {
     "name": "stdout",
     "output_type": "stream",
     "text": [
      "Train on 60000 samples, validate on 10000 samples\n",
      "Epoch 1/10\n",
      "60000/60000 [==============================] - 3s - loss: 0.4409 - acc: 0.8808 - val_loss: 0.3027 - val_acc: 0.9159\n",
      "Epoch 2/10\n",
      "60000/60000 [==============================] - 3s - loss: 0.3025 - acc: 0.9155 - val_loss: 0.2868 - val_acc: 0.9209\n",
      "Epoch 3/10\n",
      "60000/60000 [==============================] - 3s - loss: 0.2889 - acc: 0.9211 - val_loss: 0.2847 - val_acc: 0.9242\n",
      "Epoch 4/10\n",
      "60000/60000 [==============================] - 3s - loss: 0.2843 - acc: 0.9233 - val_loss: 0.2845 - val_acc: 0.9241\n",
      "Epoch 5/10\n",
      "60000/60000 [==============================] - 4s - loss: 0.2810 - acc: 0.9251 - val_loss: 0.2873 - val_acc: 0.9236\n",
      "Epoch 6/10\n",
      "60000/60000 [==============================] - 3s - loss: 0.2797 - acc: 0.9265 - val_loss: 0.2864 - val_acc: 0.9256\n",
      "Epoch 7/10\n",
      "60000/60000 [==============================] - 4s - loss: 0.2788 - acc: 0.9269 - val_loss: 0.2887 - val_acc: 0.9270\n",
      "Epoch 8/10\n",
      "60000/60000 [==============================] - 4s - loss: 0.2784 - acc: 0.9279 - val_loss: 0.2915 - val_acc: 0.9255\n",
      "Epoch 9/10\n",
      "60000/60000 [==============================] - 3s - loss: 0.2780 - acc: 0.9290 - val_loss: 0.2948 - val_acc: 0.9276\n",
      "Epoch 10/10\n",
      "60000/60000 [==============================] - 3s - loss: 0.2786 - acc: 0.9292 - val_loss: 0.2980 - val_acc: 0.9251\n"
     ]
    },
    {
     "data": {
      "text/plain": [
       "<keras.callbacks.History at 0x128331f28>"
      ]
     },
     "execution_count": 10,
     "metadata": {},
     "output_type": "execute_result"
    }
   ],
   "source": [
    "# look at validation scores\n",
    "model.fit(X_train, Y_train,\n",
    "          epochs=10,\n",
    "          validation_data=(X_test, Y_test))"
   ]
  },
  {
   "cell_type": "markdown",
   "metadata": {},
   "source": [
    "## One hidden layer\n",
    "\n",
    "Old-school neural networks."
   ]
  },
  {
   "cell_type": "code",
   "execution_count": 11,
   "metadata": {
    "collapsed": true
   },
   "outputs": [],
   "source": [
    "model = Sequential()\n",
    "\n",
    "model.add(Flatten(input_shape=(28, 28, 1)))\n",
    "model.add(Dense(128))\n",
    "model.add(Activation('sigmoid'))\n",
    "model.add(Dense(10))\n",
    "model.add(Activation('softmax'))\n",
    "\n",
    "model.compile(optimizer='rmsprop',\n",
    "              loss='categorical_crossentropy',\n",
    "              metrics=['accuracy'])"
   ]
  },
  {
   "cell_type": "code",
   "execution_count": 12,
   "metadata": {
    "collapsed": false
   },
   "outputs": [
    {
     "name": "stdout",
     "output_type": "stream",
     "text": [
      "           OPERATION           DATA DIMENSIONS   WEIGHTS(N)   WEIGHTS(%)\n",
      "\n",
      "               Input   #####     28   28    1\n",
      "             Flatten   ||||| -------------------         0     0.0%\n",
      "                       #####         784\n",
      "               Dense   XXXXX -------------------    100480    98.7%\n",
      "             sigmoid   #####         128\n",
      "               Dense   XXXXX -------------------      1290     1.3%\n",
      "             softmax   #####          10\n"
     ]
    }
   ],
   "source": [
    "sequential_model_to_ascii_printout(model)"
   ]
  },
  {
   "cell_type": "code",
   "execution_count": 13,
   "metadata": {
    "collapsed": false
   },
   "outputs": [
    {
     "name": "stdout",
     "output_type": "stream",
     "text": [
      "Train on 60000 samples, validate on 10000 samples\n",
      "Epoch 1/10\n",
      "60000/60000 [==============================] - 6s - loss: 0.3793 - acc: 0.8980 - val_loss: 0.2262 - val_acc: 0.9335\n",
      "Epoch 2/10\n",
      "60000/60000 [==============================] - 6s - loss: 0.1971 - acc: 0.9420 - val_loss: 0.1651 - val_acc: 0.9502\n",
      "Epoch 3/10\n",
      "60000/60000 [==============================] - 6s - loss: 0.1503 - acc: 0.9557 - val_loss: 0.1356 - val_acc: 0.9601\n",
      "Epoch 4/10\n",
      "60000/60000 [==============================] - 6s - loss: 0.1227 - acc: 0.9637 - val_loss: 0.1226 - val_acc: 0.9634\n",
      "Epoch 5/10\n",
      "60000/60000 [==============================] - 6s - loss: 0.1032 - acc: 0.9697 - val_loss: 0.1116 - val_acc: 0.9666\n",
      "Epoch 6/10\n",
      "60000/60000 [==============================] - 6s - loss: 0.0892 - acc: 0.9737 - val_loss: 0.0991 - val_acc: 0.9707\n",
      "Epoch 7/10\n",
      "60000/60000 [==============================] - 6s - loss: 0.0796 - acc: 0.9768 - val_loss: 0.0953 - val_acc: 0.9709\n",
      "Epoch 8/10\n",
      "60000/60000 [==============================] - 6s - loss: 0.0709 - acc: 0.9792 - val_loss: 0.0903 - val_acc: 0.9738\n",
      "Epoch 9/10\n",
      "60000/60000 [==============================] - 6s - loss: 0.0634 - acc: 0.9814 - val_loss: 0.0887 - val_acc: 0.9747\n",
      "Epoch 10/10\n",
      "60000/60000 [==============================] - 6s - loss: 0.0582 - acc: 0.9829 - val_loss: 0.0861 - val_acc: 0.9754\n"
     ]
    },
    {
     "data": {
      "text/plain": [
       "<keras.callbacks.History at 0x12916bac8>"
      ]
     },
     "execution_count": 13,
     "metadata": {},
     "output_type": "execute_result"
    }
   ],
   "source": [
    "model.fit(X_train, Y_train,\n",
    "          epochs=10,\n",
    "          validation_data=(X_test, Y_test))"
   ]
  },
  {
   "cell_type": "markdown",
   "metadata": {},
   "source": [
    "## Convolutional network\n",
    "\n",
    "Not yet that deep."
   ]
  },
  {
   "cell_type": "code",
   "execution_count": 17,
   "metadata": {
    "collapsed": true
   },
   "outputs": [],
   "source": [
    "model = Sequential()\n",
    "\n",
    "model.add(Conv2D(16, (3, 3), input_shape=(28, 28, 1)))\n",
    "model.add(Activation('relu'))\n",
    "model.add(MaxPool2D())\n",
    "\n",
    "model.add(Flatten())\n",
    "model.add(Dense(10))\n",
    "model.add(Activation('softmax'))\n",
    "\n",
    "model.compile(optimizer='rmsprop',\n",
    "              loss='categorical_crossentropy',\n",
    "              metrics=['accuracy'])"
   ]
  },
  {
   "cell_type": "code",
   "execution_count": 18,
   "metadata": {
    "collapsed": false
   },
   "outputs": [
    {
     "name": "stdout",
     "output_type": "stream",
     "text": [
      "           OPERATION           DATA DIMENSIONS   WEIGHTS(N)   WEIGHTS(%)\n",
      "\n",
      "               Input   #####     28   28    1\n",
      "              Conv2D    \\|/  -------------------       160     0.6%\n",
      "                relu   #####     26   26   16\n",
      "        MaxPooling2D   Y max -------------------         0     0.0%\n",
      "                       #####     13   13   16\n",
      "             Flatten   ||||| -------------------         0     0.0%\n",
      "                       #####        2704\n",
      "               Dense   XXXXX -------------------     27050    99.4%\n",
      "             softmax   #####          10\n"
     ]
    }
   ],
   "source": [
    "sequential_model_to_ascii_printout(model)"
   ]
  },
  {
   "cell_type": "code",
   "execution_count": 19,
   "metadata": {
    "collapsed": false
   },
   "outputs": [
    {
     "name": "stdout",
     "output_type": "stream",
     "text": [
      "Train on 60000 samples, validate on 10000 samples\n",
      "Epoch 1/10\n",
      "60000/60000 [==============================] - 16s - loss: 0.2868 - acc: 0.9192 - val_loss: 0.1498 - val_acc: 0.9594\n",
      "Epoch 2/10\n",
      "60000/60000 [==============================] - 15s - loss: 0.1235 - acc: 0.9651 - val_loss: 0.0963 - val_acc: 0.9706\n",
      "Epoch 3/10\n",
      "60000/60000 [==============================] - 14s - loss: 0.0907 - acc: 0.9740 - val_loss: 0.0794 - val_acc: 0.9756\n",
      "Epoch 4/10\n",
      "60000/60000 [==============================] - 15s - loss: 0.0762 - acc: 0.9781 - val_loss: 0.0719 - val_acc: 0.9771\n",
      "Epoch 5/10\n",
      "60000/60000 [==============================] - 15s - loss: 0.0673 - acc: 0.9803 - val_loss: 0.0682 - val_acc: 0.9789\n",
      "Epoch 6/10\n",
      "60000/60000 [==============================] - 15s - loss: 0.0626 - acc: 0.9823 - val_loss: 0.0632 - val_acc: 0.9799\n",
      "Epoch 7/10\n",
      "60000/60000 [==============================] - 15s - loss: 0.0584 - acc: 0.9834 - val_loss: 0.0678 - val_acc: 0.9799\n",
      "Epoch 8/10\n",
      "60000/60000 [==============================] - 15s - loss: 0.0555 - acc: 0.9841 - val_loss: 0.0594 - val_acc: 0.9813\n",
      "Epoch 9/10\n",
      "60000/60000 [==============================] - 15s - loss: 0.0535 - acc: 0.9852 - val_loss: 0.0602 - val_acc: 0.9807\n",
      "Epoch 10/10\n",
      "60000/60000 [==============================] - 15s - loss: 0.0514 - acc: 0.9855 - val_loss: 0.0606 - val_acc: 0.9814\n"
     ]
    },
    {
     "data": {
      "text/plain": [
       "<keras.callbacks.History at 0x129b8f7b8>"
      ]
     },
     "execution_count": 19,
     "metadata": {},
     "output_type": "execute_result"
    }
   ],
   "source": [
    "model.fit(X_train, Y_train,\n",
    "          epochs=10,\n",
    "          validation_data=(X_test, Y_test))"
   ]
  },
  {
   "cell_type": "markdown",
   "metadata": {
    "collapsed": true
   },
   "source": [
    "## Ideas\n",
    "\n",
    "* Add one more `Conv2D` and `MaxPool2D` layer.\n",
    "* Add one more dense layer (with `relu` activation) before."
   ]
  }
 ],
 "metadata": {
  "anaconda-cloud": {},
  "kernelspec": {
   "display_name": "Python [default]",
   "language": "python",
   "name": "python3"
  },
  "language_info": {
   "codemirror_mode": {
    "name": "ipython",
    "version": 3
   },
   "file_extension": ".py",
   "mimetype": "text/x-python",
   "name": "python",
   "nbconvert_exporter": "python",
   "pygments_lexer": "ipython3",
   "version": "3.5.2"
  }
 },
 "nbformat": 4,
 "nbformat_minor": 1
}
